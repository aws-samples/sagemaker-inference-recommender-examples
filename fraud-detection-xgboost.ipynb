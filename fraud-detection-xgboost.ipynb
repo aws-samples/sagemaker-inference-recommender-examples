{
 "cells": [
  {
   "cell_type": "markdown",
   "id": "c1700112-509c-478a-b2b0-7c12337f3dd6",
   "metadata": {},
   "source": [
    "## SageMaker Inference Recommender - XGBoost\n",
    "\n",
    "### 1. Introduction\n",
    "SageMaker Inference Recommender is a new capability of SageMaker that reduces the time required to get machine learning (ML) models in production by automating load tests and optimizing model performance across instance types. You can use Inference Recommender to select a real-time inference endpoint that delivers the best performance at the lowest cost.\n",
    "\n",
    "Get started with Inference Recommender on SageMaker in minutes while selecting an instance and get an optimized endpoint configuration in hours, eliminating weeks of manual testing and tuning time.\n",
    "\n",
    "### 2. Setup\n",
    "Note that we are using the conda_python3 kernel in SageMaker Notebook Instances. This is running Python 3.6. If you'd like to use the same setup, in the AWS Management Console, go to the Amazon SageMaker console. Choose Notebook Instances, and click create a new notebook instance. Upload the current notebook and set the kernel. You can also run this in SageMaker Studio Notebooks with the Python 3 (Data Science) kernel.\n",
    "\n",
    "In the next steps, you'll import standard methods and libraries as well as set variables that will be used in this notebook. The get_execution_role function retrieves the AWS Identity and Access Management (IAM) role you created at the time of creating your notebook instance. \n",
    "\n",
    "For this example we will be utilizing the [SageMaker Python SDK](https://github.com/aws/sagemaker-python-sdk/tree/cc9b286f9977c4b793d16196ebd02570f8249bbd/src/sagemaker/inference_recommender) support for Inference Recommender. For our ML use-case we will be utilizing the built-in [SageMaker XGBoost](https://docs.aws.amazon.com/sagemaker/latest/dg/xgboost.html) algorithm to solve a classification problem for a fraud detection use-case that is built off of the following [example](https://github.com/aws-samples/amazon-sagemaker-fraud-detection/blob/master/notebooks/sagemaker_fraud_detection_xgb.ipynb)."
   ]
  },
  {
   "cell_type": "markdown",
   "id": "fdba8d15-30d4-4e64-9847-c3aaf11cc6ca",
   "metadata": {},
   "source": [
    "### 3. Retrieve and Prepare Dataset"
   ]
  },
  {
   "cell_type": "code",
   "execution_count": null,
   "id": "61d589d8-b040-444e-a1c6-b78ff8661e53",
   "metadata": {},
   "outputs": [],
   "source": [
    "%%bash\n",
    "wget https://s3-us-west-2.amazonaws.com/sagemaker-e2e-solutions/fraud-detection/creditcardfraud.zip\n",
    "unzip creditcardfraud.zip"
   ]
  },
  {
   "cell_type": "code",
   "execution_count": null,
   "id": "9a644016-4d84-4c7b-90e4-ef431fa56ab2",
   "metadata": {},
   "outputs": [],
   "source": [
    "import numpy as np \n",
    "import pandas as pd\n",
    "import matplotlib.pyplot as plt\n",
    "\n",
    "data = pd.read_csv('creditcard.csv', delimiter=',')"
   ]
  },
  {
   "cell_type": "code",
   "execution_count": null,
   "id": "45956934-838e-4e49-97f2-f856786c1ef1",
   "metadata": {},
   "outputs": [],
   "source": [
    "print(data.columns)\n",
    "data[['Time', 'V1', 'V2', 'V27', 'V28', 'Amount', 'Class']].describe()\n",
    "data.head(10)"
   ]
  },
  {
   "cell_type": "code",
   "execution_count": null,
   "id": "c0f58976-bd9e-4c5c-b466-725b65c44b67",
   "metadata": {},
   "outputs": [],
   "source": [
    "nonfrauds, frauds = data.groupby('Class').size()\n",
    "print('Number of frauds: ', frauds)\n",
    "print('Number of non-frauds: ', nonfrauds)\n",
    "print('Percentage of fradulent data:', 100.*frauds/(frauds + nonfrauds))"
   ]
  },
  {
   "cell_type": "code",
   "execution_count": null,
   "id": "4a4c980b-eb37-4e5f-ac65-0b3299cf3200",
   "metadata": {},
   "outputs": [],
   "source": [
    "feature_columns = data.columns[:-1]\n",
    "label_column = data.columns[-1]\n",
    "\n",
    "features = data[feature_columns].values.astype('float32')\n",
    "labels = (data[label_column].values).astype('float32')"
   ]
  },
  {
   "cell_type": "code",
   "execution_count": null,
   "id": "8dc7cd63-267e-416d-8f48-5f4b2edc1505",
   "metadata": {},
   "outputs": [],
   "source": [
    "model_data = data\n",
    "model_data.head()\n",
    "model_data = pd.concat([model_data['Class'], model_data.drop(['Class'], axis=1)], axis=1)\n",
    "model_data.head()"
   ]
  },
  {
   "cell_type": "markdown",
   "id": "15dd300d-9bbe-4270-8b10-d541f16b085f",
   "metadata": {},
   "source": [
    "#### Upload Dataset to S3"
   ]
  },
  {
   "cell_type": "code",
   "execution_count": null,
   "id": "75362adb-01eb-439b-9b46-f06cb8f4f793",
   "metadata": {},
   "outputs": [],
   "source": [
    "import boto3\n",
    "import os\n",
    "import sagemaker\n",
    "region = boto3.Session().region_name\n",
    "role = sagemaker.get_execution_role()\n",
    "\n",
    "session = sagemaker.Session()\n",
    "\n",
    "bucket = session.default_bucket()\n",
    "sagemaker_iam_role = sagemaker.get_execution_role()\n",
    "\n",
    "prefix = 'sagemaker/DEMO-xgboost-fraud'\n",
    "\n",
    "train_data, validation_data, test_data = np.split(model_data.sample(frac=1, random_state=1729), \n",
    "                                                  [int(0.7 * len(model_data)), int(0.9 * len(model_data))])\n",
    "train_data.to_csv('train.csv', header=False, index=False)\n",
    "validation_data.to_csv('validation.csv', header=False, index=False)\n",
    "\n",
    "\n",
    "boto3.Session().resource('s3').Bucket(bucket).Object(os.path.join(prefix, 'train/train.csv')) \\\n",
    "                                .upload_file('train.csv')\n",
    "boto3.Session().resource('s3').Bucket(bucket).Object(os.path.join(prefix, 'validation/validation.csv')) \\\n",
    "                                .upload_file('validation.csv')\n",
    "s3_train_data = 's3://{}/{}/train/train.csv'.format(bucket, prefix)\n",
    "s3_validation_data = 's3://{}/{}/validation/validation.csv'.format(bucket, prefix)\n",
    "print('Uploaded training data location: {}'.format(s3_train_data))\n",
    "print('Uploaded training data location: {}'.format(s3_validation_data))\n",
    "\n",
    "output_location = 's3://{}/{}/output'.format(bucket, prefix)\n",
    "print('Training artifacts will be uploaded to: {}'.format(output_location))"
   ]
  },
  {
   "cell_type": "markdown",
   "id": "16ff4d7f-0c85-442c-bf47-f0f477518113",
   "metadata": {},
   "source": [
    "#### Convert Dataset to Smaller Payload\n",
    "\n",
    "For the payload we will pass into Inference Recommender we want to make sure we don't cross the 6MB payload limit with real-time inference, so we make a smaller subset of our test dataset we created in the previous cell."
   ]
  },
  {
   "cell_type": "code",
   "execution_count": null,
   "id": "6fe975c2-2ffc-4f72-8a35-ae2dd52fbfb3",
   "metadata": {},
   "outputs": [],
   "source": [
    "sub_test = test_data.iloc[:100,:]\n",
    "df2 = sub_test.iloc[: , 1:]"
   ]
  },
  {
   "cell_type": "code",
   "execution_count": null,
   "id": "06bff35b-f524-47de-b54d-a3bdfaad6ca6",
   "metadata": {},
   "outputs": [],
   "source": [
    "df2.to_csv(\"payload.csv\", header=False,index=False)"
   ]
  },
  {
   "cell_type": "markdown",
   "id": "e7182a4b-ddaa-4553-846d-a62d905425b8",
   "metadata": {},
   "source": [
    "### 5. SageMaker Training Job"
   ]
  },
  {
   "cell_type": "code",
   "execution_count": null,
   "id": "b67999e7-312d-4115-af09-02a29050b153",
   "metadata": {},
   "outputs": [],
   "source": [
    "container = sagemaker.image_uris.retrieve(framework=\"xgboost\", region=region, version=\"1.0-1\", py_version=\"py3\", \n",
    "                                              image_scope='inference')"
   ]
  },
  {
   "cell_type": "code",
   "execution_count": null,
   "id": "46b7b834-966b-47d1-9ed4-f593a4b381bf",
   "metadata": {},
   "outputs": [],
   "source": [
    "from sagemaker.inputs import TrainingInput\n",
    "s3_input_train = TrainingInput(s3_data='s3://{}/{}/train'.format(bucket, prefix), content_type='csv')\n",
    "s3_input_validation = TrainingInput(s3_data='s3://{}/{}/validation/'.format(bucket, prefix), content_type='csv')"
   ]
  },
  {
   "cell_type": "code",
   "execution_count": null,
   "id": "b094076e-55be-47a7-8574-c99be60ce394",
   "metadata": {},
   "outputs": [],
   "source": [
    "xgb = sagemaker.estimator.Estimator(container,\n",
    "                                    role=sagemaker_iam_role, \n",
    "                                    train_instance_count=1, \n",
    "                                    train_instance_type='ml.m4.xlarge',\n",
    "                                    output_path=output_location,\n",
    "                                    sagemaker_session=session)\n",
    "xgb.set_hyperparameters(max_depth=5,\n",
    "                        eta=0.2,\n",
    "                        gamma=4,\n",
    "                        min_child_weight=6,\n",
    "                        subsample=0.8,\n",
    "                        silent=0,\n",
    "                        objective='binary:logistic',\n",
    "                        num_round=100)"
   ]
  },
  {
   "cell_type": "code",
   "execution_count": null,
   "id": "8bd6a79d-461c-4591-a5de-018df4d44b26",
   "metadata": {},
   "outputs": [],
   "source": [
    "xgb.fit({'train': s3_input_train, 'validation': s3_input_validation})"
   ]
  },
  {
   "cell_type": "markdown",
   "id": "59d7e7fc-c4db-48ce-9afe-fc958cca4128",
   "metadata": {},
   "source": [
    "### 6. Upload model and payload data for Inference Recommender job"
   ]
  },
  {
   "cell_type": "code",
   "execution_count": null,
   "id": "2cfd60db-7620-4b4a-828c-01573b4aa7d3",
   "metadata": {},
   "outputs": [],
   "source": [
    "model_url = xgb.model_data\n",
    "model_url"
   ]
  },
  {
   "cell_type": "code",
   "execution_count": null,
   "id": "a1f56000-8785-469c-8f23-9516666e71a7",
   "metadata": {},
   "outputs": [],
   "source": [
    "payload_archive_name = \"payload.tar.gz\""
   ]
  },
  {
   "cell_type": "code",
   "execution_count": null,
   "id": "19c0bb26-d2cf-4498-a95e-0f8c55bf5422",
   "metadata": {},
   "outputs": [],
   "source": [
    "!tar -cvzf {payload_archive_name} payload.csv"
   ]
  },
  {
   "cell_type": "code",
   "execution_count": null,
   "id": "7c55ad77-414a-43d5-83e4-841753aee155",
   "metadata": {},
   "outputs": [],
   "source": [
    "from sagemaker import get_execution_role, Session, image_uris\n",
    "import boto3\n",
    "import time\n",
    "\n",
    "region = boto3.Session().region_name\n",
    "role = get_execution_role()\n",
    "sm_client = boto3.client(\"sagemaker\", region_name=region)\n",
    "sagemaker_session = Session()\n",
    "print(region)"
   ]
  },
  {
   "cell_type": "code",
   "execution_count": null,
   "id": "e41c148f-1a62-49a0-956c-092c7beb2fa0",
   "metadata": {},
   "outputs": [],
   "source": [
    "sample_payload_url = sagemaker_session.upload_data(\n",
    "    path=payload_archive_name, key_prefix=\"final-fraud\"\n",
    ")"
   ]
  },
  {
   "cell_type": "markdown",
   "id": "7ac9e349-6d0d-48b3-a109-bfc264a72acb",
   "metadata": {},
   "source": [
    "### 7. Create Model Package Group and SageMaker Model"
   ]
  },
  {
   "cell_type": "code",
   "execution_count": null,
   "id": "39e67e37-9f2b-4061-8366-b4afee6474e3",
   "metadata": {},
   "outputs": [],
   "source": [
    "model_package_group_name = \"xgboost-fraud\" + str(round(time.time()))"
   ]
  },
  {
   "cell_type": "code",
   "execution_count": null,
   "id": "510cafe8-65f5-4219-9ae1-302a7e76c62d",
   "metadata": {},
   "outputs": [],
   "source": [
    "from sagemaker.model import Model\n",
    "from sagemaker import image_uris\n",
    "\n",
    "model = Model(\n",
    "    model_data=model_url,\n",
    "    role=role,\n",
    "    image_uri = sagemaker.image_uris.retrieve(framework=\"xgboost\", region=region, version=\"1.0-1\", py_version=\"py3\", \n",
    "                                              image_scope='inference'),\n",
    "    sagemaker_session=sagemaker_session\n",
    "    )"
   ]
  },
  {
   "cell_type": "markdown",
   "id": "fe332bdf-454b-4dff-b4ae-a1bb50031fd6",
   "metadata": {},
   "source": [
    "### 8. Register Model (Optional)"
   ]
  },
  {
   "cell_type": "code",
   "execution_count": null,
   "id": "f05f7156-6648-4065-bb15-340db3ce525e",
   "metadata": {},
   "outputs": [],
   "source": [
    "model_package = model.register(\n",
    "    content_types=[\"text/csv\"],\n",
    "    response_types=[\"text/csv\"],\n",
    "    model_package_group_name=model_package_group_name,\n",
    "    image_uri=model.image_uri,\n",
    "    approval_status=\"Approved\",\n",
    "    framework=\"XGBOOST\"\n",
    ")"
   ]
  },
  {
   "cell_type": "markdown",
   "id": "4ef4a10a-051c-41d4-80ad-fc9f004fda96",
   "metadata": {},
   "source": [
    "### 9. Run Default IR Job\n",
    "\n",
    "The default IR job should take approximately 45 minutes to complete, you can also visualize the results utilizing the SageMaker Studio UI."
   ]
  },
  {
   "cell_type": "code",
   "execution_count": null,
   "id": "bd6ec25a-2582-45db-bb04-dcb607ef5e6b",
   "metadata": {},
   "outputs": [],
   "source": [
    "model_package.right_size(\n",
    "    sample_payload_url=sample_payload_url,\n",
    "    supported_content_types=[\"text/csv\"],\n",
    "    supported_instance_types=[\"ml.c5.xlarge\", \"ml.c5.9xlarge\"],\n",
    "    framework=\"XGBOOST\",\n",
    ")"
   ]
  },
  {
   "cell_type": "markdown",
   "id": "042f007e-7bb0-46a4-8a5d-17a229d29321",
   "metadata": {},
   "source": [
    "### 10. Run Advanced IR Job\n",
    "\n",
    "Here you can define different environment variables that apply to your container/framework that you want to test and iterate on, Inference Recommender will automatically benchmark the array of values you pass in and return the results for each parameter."
   ]
  },
  {
   "cell_type": "code",
   "execution_count": null,
   "id": "e8de4b07-85a9-4e8e-928d-e56ff1266cae",
   "metadata": {},
   "outputs": [],
   "source": [
    "from sagemaker.parameter import CategoricalParameter \n",
    "from sagemaker.inference_recommender.inference_recommender_mixin import (  \n",
    "    Phase,  \n",
    "    ModelLatencyThreshold \n",
    ") \n",
    "\n",
    "hyperparameter_ranges = [ \n",
    "    { \n",
    "        \"instance_types\": CategoricalParameter([\"ml.m5.xlarge\", \"ml.g4dn.xlarge\"]), \n",
    "        'OMP_NUM_THREADS': CategoricalParameter(['1', '2', '3']), \n",
    "    } \n",
    "] \n",
    "\n",
    "phases = [ \n",
    "    Phase(duration_in_seconds=120, initial_number_of_users=2, spawn_rate=2), \n",
    "    Phase(duration_in_seconds=120, initial_number_of_users=6, spawn_rate=2) \n",
    "] \n",
    "\n",
    "model_latency_thresholds = [ \n",
    "    ModelLatencyThreshold(percentile=\"P95\", value_in_milliseconds=200) \n",
    "]"
   ]
  },
  {
   "cell_type": "code",
   "execution_count": null,
   "id": "56916463-eb15-4cd4-a2f1-5dc26baf7317",
   "metadata": {},
   "outputs": [],
   "source": [
    "model_package.right_size( \n",
    "    sample_payload_url=sample_payload_url, \n",
    "    supported_content_types=[\"text/csv\"], \n",
    "    framework=\"XGBOOST\", \n",
    "    job_duration_in_seconds=3600, \n",
    "    hyperparameter_ranges=hyperparameter_ranges, \n",
    "    phases=phases, # TrafficPattern \n",
    "    max_invocations=100, # StoppingConditions \n",
    "    model_latency_thresholds=model_latency_thresholds\n",
    ")"
   ]
  },
  {
   "cell_type": "markdown",
   "id": "f77e47c8-f328-4f42-b30c-7ed1a3b878e6",
   "metadata": {},
   "source": [
    "### 11. Create Endpoint (Optional)"
   ]
  },
  {
   "cell_type": "code",
   "execution_count": null,
   "id": "0a309a17-c02f-455a-8749-6780eeafed0b",
   "metadata": {},
   "outputs": [],
   "source": [
    "import time\n",
    "from time import gmtime, strftime\n",
    "endpoint_name = 'deployed-xgboost-fraud-prediction' + strftime(\"%Y-%m-%d-%H-%M-%S\", gmtime())\n",
    "xgb_predictor = xgb.deploy(initial_instance_count = 1, instance_type = 'ml.c5.xlarge',\n",
    "                          endpoint_name=endpoint_name)"
   ]
  },
  {
   "cell_type": "code",
   "execution_count": null,
   "id": "e5258d25-50a3-490d-ae37-1fa237ea7b8f",
   "metadata": {},
   "outputs": [],
   "source": [
    "import boto3\n",
    "smr = boto3.client('sagemaker-runtime')\n",
    "resp = smr.invoke_endpoint(EndpointName=endpoint_name, Body=b'1.766913,0.251711,-0.501575,4.214333,0.152405,-0.054836,0.066733,-0.142544,0.823496,1.008849,-0.801094,-3.260263,0.372933,1.674254,-2.125822,0.499348,0.273020,-0.075144,-1.541981,-0.269055,-0.045084,0.070225,0.031831,-0.117100,0.049678,0.056044,-0.075564,-0.046625,84.22', \n",
    "                           ContentType='text/csv')\n",
    "\n",
    "print(resp['Body'].read())"
   ]
  },
  {
   "cell_type": "markdown",
   "id": "7c0e304e-5186-47f9-82b3-289e2069a085",
   "metadata": {},
   "source": [
    "### 12. Cleanup"
   ]
  },
  {
   "cell_type": "code",
   "execution_count": null,
   "id": "87907c7f-2fa9-4a7c-b638-bb37460864cd",
   "metadata": {},
   "outputs": [],
   "source": [
    "xgb_predictor.delete_endpoint()"
   ]
  }
 ],
 "metadata": {
  "kernelspec": {
   "display_name": "conda_python3",
   "language": "python",
   "name": "conda_python3"
  },
  "language_info": {
   "codemirror_mode": {
    "name": "ipython",
    "version": 3
   },
   "file_extension": ".py",
   "mimetype": "text/x-python",
   "name": "python",
   "nbconvert_exporter": "python",
   "pygments_lexer": "ipython3",
   "version": "3.10.6"
  }
 },
 "nbformat": 4,
 "nbformat_minor": 5
}
